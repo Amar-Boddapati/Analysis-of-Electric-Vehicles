{
 "cells": [
  {
   "cell_type": "markdown",
   "id": "544bf6dc",
   "metadata": {},
   "source": [
    "# Electric Vehicles and its Types :-"
   ]
  },
  {
   "cell_type": "markdown",
   "id": "2facbfe7",
   "metadata": {},
   "source": [
    "## Electric Vehicle :"
   ]
  },
  {
   "cell_type": "markdown",
   "id": "3a0dfa65",
   "metadata": {},
   "source": [
    "An Electric Vehicle (EV) runs on an electric motor rather than an internal-combustion engine that creates power by burning a mixture of gasoline and gases. As a result, such a vehicle is considered a potential replacement for current-generation automobiles to solve issues such as growing pollution, global warming, decreasing natural resources, and so on."
   ]
  },
  {
   "cell_type": "markdown",
   "id": "0282711f",
   "metadata": {},
   "source": [
    "## Types :"
   ]
  },
  {
   "cell_type": "markdown",
   "id": "f4183936",
   "metadata": {},
   "source": [
    "##### Electric Vehicles are majorly categorized into 3 types:-\n",
    "\n",
    "Battery Electric Vehicle (BEV)\n",
    "\n",
    "Hybrid Electric Vehicle (HEV)\n",
    "\n",
    "Plug-In Hybrid Hybrid Electric Vehicle (PHEV)\n",
    "\n",
    "\n",
    "#### Other Categories are:\n",
    "\n",
    "Range Extension Type (REx)\n",
    "\n",
    "Fuel Cell Electric Vehicle (FCEV)"
   ]
  },
  {
   "cell_type": "code",
   "execution_count": null,
   "id": "56943c39",
   "metadata": {},
   "outputs": [],
   "source": [
    "import pandas as pd"
   ]
  },
  {
   "cell_type": "markdown",
   "id": "1d6329b3",
   "metadata": {},
   "source": [
    "## Reading the Dataset"
   ]
  },
  {
   "cell_type": "code",
   "execution_count": null,
   "id": "d998208f",
   "metadata": {},
   "outputs": [],
   "source": [
    "df = pd.read_csv(r\"C:\\Users\\hp\\Downloads\\dataset.csv\")"
   ]
  },
  {
   "cell_type": "markdown",
   "id": "3d7ffce6",
   "metadata": {},
   "source": [
    "## Let's get some data overview"
   ]
  },
  {
   "cell_type": "code",
   "execution_count": null,
   "id": "0dd86667",
   "metadata": {},
   "outputs": [],
   "source": [
    "df.info()"
   ]
  },
  {
   "cell_type": "code",
   "execution_count": null,
   "id": "9f10b0b5",
   "metadata": {},
   "outputs": [],
   "source": [
    "df.describe()"
   ]
  },
  {
   "cell_type": "code",
   "execution_count": null,
   "id": "e3044840",
   "metadata": {},
   "outputs": [],
   "source": [
    "df.isnull().sum()"
   ]
  },
  {
   "cell_type": "code",
   "execution_count": null,
   "id": "571d90b0",
   "metadata": {},
   "outputs": [],
   "source": [
    "df.shape"
   ]
  },
  {
   "cell_type": "markdown",
   "id": "f09b8850",
   "metadata": {},
   "source": [
    "## Removing the Null Values"
   ]
  },
  {
   "cell_type": "code",
   "execution_count": null,
   "id": "d4be0bdd",
   "metadata": {},
   "outputs": [],
   "source": [
    "df.dropna(inplace=True)"
   ]
  },
  {
   "cell_type": "code",
   "execution_count": null,
   "id": "dbd17959",
   "metadata": {},
   "outputs": [],
   "source": [
    "df.shape"
   ]
  },
  {
   "cell_type": "markdown",
   "id": "8d9aee93",
   "metadata": {},
   "source": [
    "#### To install Plotly use: !pip install plotly"
   ]
  },
  {
   "cell_type": "code",
   "execution_count": null,
   "id": "fb988258",
   "metadata": {},
   "outputs": [],
   "source": [
    "import plotly.express as px"
   ]
  },
  {
   "cell_type": "markdown",
   "id": "c7a7bdde",
   "metadata": {},
   "source": [
    "## Apply Exploratory Data Analysis(Univariate and Bivariate) using 'plotly.express' library :"
   ]
  },
  {
   "cell_type": "markdown",
   "id": "94feb7a1",
   "metadata": {},
   "source": [
    "## Data Visulaization"
   ]
  },
  {
   "cell_type": "markdown",
   "id": "74653632",
   "metadata": {},
   "source": [
    "### Univariate Analysis"
   ]
  },
  {
   "cell_type": "code",
   "execution_count": null,
   "id": "d0d2a02e",
   "metadata": {
    "scrolled": true
   },
   "outputs": [],
   "source": [
    "fig_ev_type = px.bar(df['Electric Vehicle Type'].value_counts(), title='Count of Electric Vehicle Types')\n",
    "fig_ev_type.show()"
   ]
  },
  {
   "cell_type": "code",
   "execution_count": null,
   "id": "304b9c3b",
   "metadata": {},
   "outputs": [],
   "source": [
    "fig_cafv_eligibility = px.bar(df['Clean Alternative Fuel Vehicle (CAFV) Eligibility'].value_counts(), \n",
    "                              title='Count of CAFV Eligibility')\n",
    "fig_cafv_eligibility.show()"
   ]
  },
  {
   "cell_type": "code",
   "execution_count": null,
   "id": "f72aafd7",
   "metadata": {},
   "outputs": [],
   "source": [
    "fig_range = px.histogram(df, x='Electric Range', nbins=30, title='Electric Range Distribution')\n",
    "fig_range.show()"
   ]
  },
  {
   "cell_type": "code",
   "execution_count": null,
   "id": "a8aa9794",
   "metadata": {},
   "outputs": [],
   "source": [
    "fig_msrp = px.histogram(df, x='Base MSRP', nbins=50, title='Base MSRP Distribution', range_x = [0, 210000])\n",
    "fig_msrp.show()"
   ]
  },
  {
   "cell_type": "code",
   "execution_count": null,
   "id": "eaa5f928",
   "metadata": {},
   "outputs": [],
   "source": [
    "company_counts = df['Make'].value_counts().reset_index()\n",
    "company_counts.columns = ['Company', 'EV Count']\n",
    "company_counts = company_counts.sort_values(by='EV Count', ascending=False)\n",
    "\n",
    "fig_bar = px.bar(company_counts, x='Company', y='EV Count', title='Number of Electric Vehicles by Company')\n",
    "fig_bar.show()"
   ]
  },
  {
   "cell_type": "code",
   "execution_count": null,
   "id": "9f04a0da",
   "metadata": {},
   "outputs": [],
   "source": [
    "county_counts = df['County'].value_counts().reset_index()\n",
    "county_counts.columns = ['County', 'EV Count']\n",
    "\n",
    "county_counts = county_counts.sort_values(by='EV Count', ascending=False)\n",
    "\n",
    "\n",
    "fig_bar = px.bar(county_counts, x='County', y='EV Count', title='Number of Electric Vehicles by County')\n",
    "fig_bar.show()"
   ]
  },
  {
   "cell_type": "code",
   "execution_count": null,
   "id": "2dc00071",
   "metadata": {},
   "outputs": [],
   "source": [
    "df_counts = df['Model Year'].value_counts().reset_index()\n",
    "df_counts.columns = ['Model Year', 'Count']\n",
    "df_counts.sort_values(by='Model Year', inplace=True)\n",
    "\n",
    "fig = px.bar(df_counts, x='Model Year', y='Count', title='Electric Vehicles Count by Model Year', labels={'Model Year': 'Model Year', 'Count': 'Count'})\n",
    "fig.show()"
   ]
  },
  {
   "cell_type": "code",
   "execution_count": null,
   "id": "b48ca911",
   "metadata": {},
   "outputs": [],
   "source": [
    "ev_type_counts = df['Electric Vehicle Type'].value_counts().reset_index()\n",
    "ev_type_counts.columns = ['Electric Vehicle Type', 'EV Count']\n",
    "ev_type_counts = ev_type_counts.sort_values(by='EV Count', ascending=False)\n",
    "\n",
    "fig_bar = px.bar(ev_type_counts, x='Electric Vehicle Type', y='EV Count', title='Number of Electric Vehicles by Electric Vehicle Type')\n",
    "fig_bar.show()"
   ]
  },
  {
   "cell_type": "code",
   "execution_count": null,
   "id": "de70684a",
   "metadata": {},
   "outputs": [],
   "source": [
    "electric_utility_counts = df['Electric Utility'].value_counts().reset_index()\n",
    "electric_utility_counts.columns = ['Electric Utility', 'EV Count']\n",
    "\n",
    "fig_bar = px.bar(electric_utility_counts, x='Electric Utility', y='EV Count', title='Electric Vehicles Count by Electric Utility')\n",
    "fig_bar.show()"
   ]
  },
  {
   "cell_type": "markdown",
   "id": "9d917a29",
   "metadata": {},
   "source": [
    "### Bivariate Analysis"
   ]
  },
  {
   "cell_type": "code",
   "execution_count": null,
   "id": "13e82150",
   "metadata": {},
   "outputs": [],
   "source": [
    "fig_scatter_ev_range_msrp = px.scatter(df, x='Electric Range', y='Base MSRP', title='Electric Range vs. Base MSRP')\n",
    "fig_scatter_ev_range_msrp.show()"
   ]
  },
  {
   "cell_type": "code",
   "execution_count": null,
   "id": "93223a17",
   "metadata": {},
   "outputs": [],
   "source": [
    "fig_scatter_ev_range_model_year = px.scatter(df, x='Model Year', y='Electric Range', title='Electric Range vs. Model Year')\n",
    "fig_scatter_ev_range_model_year.show()"
   ]
  },
  {
   "cell_type": "code",
   "execution_count": null,
   "id": "b04e697b",
   "metadata": {},
   "outputs": [],
   "source": [
    "fig_box_ev_type_range = px.box(df, x='Electric Vehicle Type', y='Electric Range', title='Electric Vehicle Type vs. Electric Range')\n",
    "fig_box_ev_type_range.show()"
   ]
  },
  {
   "cell_type": "code",
   "execution_count": null,
   "id": "3fedae2f",
   "metadata": {},
   "outputs": [],
   "source": [
    "fig_scatter_model_year_ev_count = px.scatter(df['Model Year'].value_counts(), title='Number of Electric Vehicles by Model Year')\n",
    "fig_scatter_model_year_ev_count.show()"
   ]
  },
  {
   "cell_type": "code",
   "execution_count": null,
   "id": "87d9d275",
   "metadata": {},
   "outputs": [],
   "source": [
    "fig_box = px.box(df, x='Electric Vehicle Type', y='Base MSRP', title='Electric Vehicle Type vs. Base MSRP')\n",
    "fig_box.show()"
   ]
  },
  {
   "cell_type": "code",
   "execution_count": null,
   "id": "7575e01f",
   "metadata": {},
   "outputs": [],
   "source": [
    "fig_scatter_model_year = px.scatter(df, x='Model Year', y='Base MSRP', title='Model Year vs. Base MSRP')\n",
    "fig_scatter_model_year.show()"
   ]
  },
  {
   "cell_type": "code",
   "execution_count": null,
   "id": "606f5ea1",
   "metadata": {},
   "outputs": [],
   "source": [
    "fig_box_ev_type = px.violin(df, x='Electric Vehicle Type', y='Electric Range', title='Electric Vehicle Type vs. Electric Range')\n",
    "fig_box_ev_type.show()"
   ]
  },
  {
   "cell_type": "code",
   "execution_count": null,
   "id": "9606c102",
   "metadata": {},
   "outputs": [],
   "source": [
    "fig_box = px.box(df, x='Clean Alternative Fuel Vehicle (CAFV) Eligibility', y='Electric Range', \n",
    "                 title='Clean Alternative Fuel Vehicle (CAFV) Eligibility vs. Electric Range',\n",
    "                 labels={'Clean Alternative Fuel Vehicle (CAFV) Eligibility': 'CAFV Eligibility', \n",
    "                         'Electric Range': 'Electric Range (miles)'})\n",
    "\n",
    "fig_box.show()"
   ]
  },
  {
   "cell_type": "code",
   "execution_count": null,
   "id": "77daf783",
   "metadata": {},
   "outputs": [],
   "source": [
    "mean_electric_range = df.groupby('Model Year')['Electric Range'].mean().reset_index()\n",
    "\n",
    "fig_line = px.line(mean_electric_range, x='Model Year', y='Electric Range', title='Model Year vs. Mean Electric Range',\n",
    "                   labels={'Model Year': 'Model Year', 'Electric Range': 'Mean Electric Range (miles)'})\n",
    "\n",
    "fig_line.show()"
   ]
  },
  {
   "cell_type": "code",
   "execution_count": null,
   "id": "ca32f32d",
   "metadata": {},
   "outputs": [],
   "source": [
    "df_counts = df.groupby(['Model Year', 'Electric Vehicle Type']).size().reset_index(name='Count')\n",
    "\n",
    "fig_bar = px.bar(df_counts, x='Model Year', y='Count', color='Electric Vehicle Type', \n",
    "                 title='Count of Different Electric Vehicle Types by Model Year')\n",
    "\n",
    "fig_bar.show()"
   ]
  },
  {
   "cell_type": "markdown",
   "id": "b04b8877",
   "metadata": {},
   "source": [
    "### Multivariate Analysis"
   ]
  },
  {
   "cell_type": "code",
   "execution_count": null,
   "id": "8f27c0b8",
   "metadata": {},
   "outputs": [],
   "source": [
    "fig_splof = px.scatter_matrix(df, dimensions=['Electric Range', 'Base MSRP', 'Model Year'],\n",
    "                              title='Scatter Plot Matrix (SPLOM)')\n",
    "fig_splof.show()"
   ]
  },
  {
   "cell_type": "code",
   "execution_count": null,
   "id": "c7fb6e29",
   "metadata": {},
   "outputs": [],
   "source": [
    "fig_sunburst = px.sunburst(df, path=['State', 'County', 'City'],\n",
    "                           title='Sunburst Chart of Electric Vehicles by State, County, and City')\n",
    "fig_sunburst.show()"
   ]
  },
  {
   "cell_type": "code",
   "execution_count": null,
   "id": "dafdc17d",
   "metadata": {},
   "outputs": [],
   "source": [
    "fig_3d_scatter = px.scatter_3d(df, x='Electric Range', y='Base MSRP', z='Model Year', color='Electric Vehicle Type',\n",
    "                               title='3D Scatter Plot of Electric Range, Base MSRP, and Model Year')\n",
    "fig_3d_scatter.show()"
   ]
  },
  {
   "cell_type": "code",
   "execution_count": null,
   "id": "5db0fdfc",
   "metadata": {
    "scrolled": true
   },
   "outputs": [],
   "source": [
    "df['EV_Type_Num'] = df['Electric Vehicle Type'].map({'Plug-in Hybrid Electric Vehicle (PHEV)': 1,\n",
    "                                                     'Battery Electric Vehicle (BEV)': 2,\n",
    "                                                     'Hybrid Electric Vehicle (HEV)': 3})\n",
    "\n",
    "fig_parallel_coordinates = px.parallel_coordinates(df, color='EV_Type_Num',\n",
    "                                                   dimensions=['Electric Range', 'Base MSRP', 'Model Year'],\n",
    "                                                   title='Parallel Coordinates Plot')\n"
   ]
  },
  {
   "cell_type": "code",
   "execution_count": null,
   "id": "c94cd42a",
   "metadata": {},
   "outputs": [],
   "source": []
  },
  {
   "cell_type": "markdown",
   "id": "452b5944",
   "metadata": {},
   "source": [
    "## Task - 2 Create a Choropleth to display the number of EV vehicles based on location "
   ]
  },
  {
   "cell_type": "code",
   "execution_count": null,
   "id": "14e9bfa2",
   "metadata": {},
   "outputs": [],
   "source": [
    "df['Longitude'] = df['Vehicle Location'].apply(lambda loc: float(loc.split()[1][1:]))\n",
    "df['Latitude'] = df['Vehicle Location'].apply(lambda loc: float(loc.split()[2][:-1]))\n",
    "\n",
    "location_counts = df.groupby(['Latitude', 'Longitude', 'Postal Code', 'County', \"State\"]).size().reset_index(name='EV Count')\n"
   ]
  },
  {
   "cell_type": "code",
   "execution_count": null,
   "id": "235c2d58",
   "metadata": {
    "scrolled": true
   },
   "outputs": [],
   "source": [
    "fig_scatter_map = px.scatter_mapbox(location_counts,\n",
    "                                    lat='Latitude',\n",
    "                                    lon='Longitude',\n",
    "                                    color='EV Count',\n",
    "                                    size='EV Count',\n",
    "                                    mapbox_style='carto-positron',\n",
    "                                    zoom=3,\n",
    "                                    center={'lat': 37.0902, 'lon': -95.7129},\n",
    "                                    title='Scatter Map of Electric Vehicle Locations')\n",
    "\n",
    "fig_scatter_map.show()"
   ]
  },
  {
   "cell_type": "markdown",
   "id": "d7838a8c",
   "metadata": {},
   "source": [
    "## Task - 3Create a Racing Bar Plot to display the animation of EV Make and its count each year "
   ]
  },
  {
   "cell_type": "markdown",
   "id": "a9b25438",
   "metadata": {},
   "source": []
  },
  {
   "cell_type": "code",
   "execution_count": null,
   "id": "0e13a4af",
   "metadata": {},
   "outputs": [],
   "source": [
    "import bar_chart_race as bcr\n",
    "import warnings"
   ]
  },
  {
   "cell_type": "code",
   "execution_count": null,
   "id": "46b97b6a",
   "metadata": {},
   "outputs": [],
   "source": [
    "import pandas as pd\n",
    "\n",
    "# Assuming df is your DataFrame with 'Model Year' and 'Make' columns\n",
    "df['Model Year'] = df['Model Year'].astype(str)\n",
    "\n",
    "grouped_data = df.groupby(['Model Year', 'Make']).size().reset_index(name='Count')\n",
    "pivoted_data = grouped_data.pivot(index='Model Year', columns='Make', values='Count')\n"
   ]
  },
  {
   "cell_type": "code",
   "execution_count": null,
   "id": "ce2a57c2",
   "metadata": {},
   "outputs": [],
   "source": [
    "import bar_chart_race as bcr\n",
    "\n",
    "bcr.bar_chart_race(\n",
    "    df=pivoted_data,\n",
    "    filename=r\"C:\\Users\\hp\\Downloads\\EV_make_racing_bar_plot.html\",\n",
    "    orientation='h',\n",
    "    sort='desc',\n",
    "    n_bars=10,\n",
    "    title='EV Make Count Over the Years',\n",
    "    filter_column_colors=True,\n",
    "    period_length=1000\n",
    ")\n"
   ]
  },
  {
   "cell_type": "code",
   "execution_count": null,
   "id": "6146665f",
   "metadata": {},
   "outputs": [],
   "source": []
  }
 ],
 "metadata": {
  "kernelspec": {
   "display_name": "Python 3 (ipykernel)",
   "language": "python",
   "name": "python3"
  },
  "language_info": {
   "codemirror_mode": {
    "name": "ipython",
    "version": 3
   },
   "file_extension": ".py",
   "mimetype": "text/x-python",
   "name": "python",
   "nbconvert_exporter": "python",
   "pygments_lexer": "ipython3",
   "version": "3.9.7"
  }
 },
 "nbformat": 4,
 "nbformat_minor": 5
}
